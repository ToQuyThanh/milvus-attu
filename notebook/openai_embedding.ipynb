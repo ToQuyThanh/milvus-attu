{
 "cells": [
  {
   "cell_type": "markdown",
   "metadata": {},
   "source": [
    "# Install and import requirements"
   ]
  },
  {
   "cell_type": "code",
   "execution_count": 6,
   "metadata": {
    "vscode": {
     "languageId": "shellscript"
    }
   },
   "outputs": [
    {
     "name": "stdout",
     "output_type": "stream",
     "text": [
      "Note: you may need to restart the kernel to use updated packages.\n"
     ]
    }
   ],
   "source": [
    "# Install requirements (First time only)\n",
    "%pip install -q pymilvus[model] load_dotenv"
   ]
  },
  {
   "cell_type": "code",
   "execution_count": 2,
   "metadata": {},
   "outputs": [],
   "source": [
    "import os\n",
    "\n",
    "from pymilvus import connections, db, model\n",
    "from load_dotenv import load_dotenv\n",
    "\n"
   ]
  },
  {
   "cell_type": "markdown",
   "metadata": {},
   "source": [
    "# Init embedding model and embedding"
   ]
  },
  {
   "cell_type": "code",
   "execution_count": null,
   "metadata": {},
   "outputs": [
    {
     "name": "stderr",
     "output_type": "stream",
     "text": [
      "None of PyTorch, TensorFlow >= 2.0, or Flax have been found. Models won't be available and only tokenizers, configuration and file/data utilities can be used.\n"
     ]
    }
   ],
   "source": [
    "# Load .env file (Default located in root directory)\n",
    "load_dotenv()\n",
    "\n",
    "OPENAI_API_KEY = os.getenv(\"OPENAI_API_KEY\")  \n",
    "\n",
    "openai_ef = model.dense.OpenAIEmbeddingFunction(\n",
    "    model_name='text-embedding-3-large', # Specify the model name\n",
    "    api_key=OPENAI_API_KEY, # Provide your OpenAI API key\n",
    "    dimensions=1024 # Set the embedding dimensionality\n",
    ")"
   ]
  },
  {
   "cell_type": "code",
   "execution_count": null,
   "metadata": {},
   "outputs": [
    {
     "name": "stdout",
     "output_type": "stream",
     "text": [
      "Embeddings: [array([-0.03343273, -0.00254545, -0.00722427, ..., -0.03284824,\n",
      "       -0.02196507, -0.06410667], shape=(1024,))]\n",
      "Dim: 1024 (1024,)\n"
     ]
    }
   ],
   "source": [
    "# Embedding data\n",
    "docs = [\n",
    "    \"Once upon a time\",\n",
    "]\n",
    "\n",
    "docs_embeddings = openai_ef.encode_documents(docs)\n",
    "\n",
    "# Create list entity\n",
    "entities = [{\"embedding\": emb, \"text\": txt} for emb, txt in zip(docs_embeddings, docs)]"
   ]
  },
  {
   "cell_type": "markdown",
   "metadata": {},
   "source": [
    "# Insert embedded data into Milvus"
   ]
  },
  {
   "cell_type": "code",
   "execution_count": 6,
   "metadata": {},
   "outputs": [
    {
     "name": "stdout",
     "output_type": "stream",
     "text": [
      "['default']\n"
     ]
    }
   ],
   "source": [
    "from pymilvus import MilvusClient\n",
    "\n",
    "\n",
    "MILVUS_TOKEN = os.environ.get(\"MILVUS_TOKEN\")\n",
    "\n",
    "client = MilvusClient(\n",
    "    uri=\"http://localhost:19530\",\n",
    "    # token=MILVUS_TOKEN,\n",
    ")\n",
    "\n",
    "\n",
    "print(client.list_databases())\n",
    "\n",
    "client.use_database(\"default\")"
   ]
  },
  {
   "cell_type": "code",
   "execution_count": null,
   "metadata": {},
   "outputs": [],
   "source": [
    "insert_result = client.insert(collection_name=\"text_collection_lab\" , data=entities)"
   ]
  },
  {
   "cell_type": "code",
   "execution_count": 13,
   "metadata": {},
   "outputs": [],
   "source": [
    "client.load_collection(collection_name=\"text_collection_lab\" )"
   ]
  }
 ],
 "metadata": {
  "kernelspec": {
   "display_name": ".venv",
   "language": "python",
   "name": "python3"
  },
  "language_info": {
   "codemirror_mode": {
    "name": "ipython",
    "version": 3
   },
   "file_extension": ".py",
   "mimetype": "text/x-python",
   "name": "python",
   "nbconvert_exporter": "python",
   "pygments_lexer": "ipython3",
   "version": "3.12.3"
  }
 },
 "nbformat": 4,
 "nbformat_minor": 2
}
