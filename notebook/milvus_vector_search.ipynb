{
 "cells": [
  {
   "cell_type": "code",
   "execution_count": 8,
   "metadata": {},
   "outputs": [
    {
     "data": {
      "text/plain": [
       "True"
      ]
     },
     "execution_count": 8,
     "metadata": {},
     "output_type": "execute_result"
    }
   ],
   "source": [
    "# Load configuration\n",
    "import os\n",
    "from load_dotenv import load_dotenv\n",
    "\n",
    "load_dotenv()"
   ]
  },
  {
   "cell_type": "code",
   "execution_count": 9,
   "metadata": {},
   "outputs": [
    {
     "name": "stdout",
     "output_type": "stream",
     "text": [
      "['default']\n"
     ]
    }
   ],
   "source": [
    "from pymilvus import MilvusClient\n",
    "\n",
    "\n",
    "MILVUS_TOKEN = os.environ.get(\"MILVUS_TOKEN\")\n",
    "\n",
    "client = MilvusClient(\n",
    "    uri=\"http://localhost:19530\",\n",
    "    # token=MILVUS_TOKEN,\n",
    ")\n",
    "\n",
    "\n",
    "print(client.list_databases())\n",
    "\n",
    "client.use_database(\"default\")"
   ]
  },
  {
   "cell_type": "code",
   "execution_count": null,
   "metadata": {},
   "outputs": [],
   "source": [
    "\n",
    "import os\n",
    "from pymilvus import model\n",
    "\n",
    "OPENAI_API_KEY = os.getenv(\"OPENAI_API_KEY\")  \n",
    "\n",
    "openai_ef = model.dense.OpenAIEmbeddingFunction(\n",
    "    model_name='text-embedding-3-large', # Specify the model name\n",
    "    api_key=OPENAI_API_KEY, # Provide your OpenAI API key\n",
    "    dimensions=1024 # Set the embedding dimensionality\n",
    ")\n"
   ]
  },
  {
   "cell_type": "code",
   "execution_count": null,
   "metadata": {},
   "outputs": [],
   "source": [
    "# Create search query\n",
    "queries = [\n",
    "    \"Once upon a time\",\n",
    "]\n",
    "\n",
    "embedding_queries = openai_ef.encode_queries(queries)"
   ]
  },
  {
   "cell_type": "code",
   "execution_count": 26,
   "metadata": {},
   "outputs": [
    {
     "name": "stdout",
     "output_type": "stream",
     "text": [
      "{'id': 456368448893842358, 'distance': 0.401614785194397, 'entity': {'text': 'Once upon a time'}}\n"
     ]
    }
   ],
   "source": [
    "# Single vector search\n",
    "res = client.search(\n",
    "    collection_name=\"text_collection_lab\",\n",
    "    anns_field=\"embedding\",\n",
    "    data=embedding_queries,\n",
    "    limit=3,\n",
    "    search_params={\"metric_type\": \"IP\"},\n",
    "    output_fields=[\"text\"]\n",
    ")\n",
    "\n",
    "for hits in res:\n",
    "    for hit in hits:\n",
    "        print(hit)"
   ]
  }
 ],
 "metadata": {
  "kernelspec": {
   "display_name": ".venv",
   "language": "python",
   "name": "python3"
  },
  "language_info": {
   "codemirror_mode": {
    "name": "ipython",
    "version": 3
   },
   "file_extension": ".py",
   "mimetype": "text/x-python",
   "name": "python",
   "nbconvert_exporter": "python",
   "pygments_lexer": "ipython3",
   "version": "3.12.3"
  }
 },
 "nbformat": 4,
 "nbformat_minor": 2
}
