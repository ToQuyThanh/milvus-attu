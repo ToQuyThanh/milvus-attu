{
 "cells": [
  {
   "cell_type": "markdown",
   "metadata": {},
   "source": [
    "# Init Milvus connection"
   ]
  },
  {
   "cell_type": "markdown",
   "metadata": {},
   "source": [
    "In case of using custom configurations, create a `.env` file in the root directory."
   ]
  },
  {
   "cell_type": "code",
   "execution_count": 1,
   "metadata": {},
   "outputs": [
    {
     "data": {
      "text/plain": [
       "{'name': 'default', 'database.max.collections': '100'}"
      ]
     },
     "execution_count": 1,
     "metadata": {},
     "output_type": "execute_result"
    }
   ],
   "source": [
    "import os\n",
    "\n",
    "from pymilvus import connections, db\n",
    "from load_dotenv import load_dotenv\n",
    "\n",
    "load_dotenv()\n",
    "\n",
    "MILVUS_HOST = os.getenv(\"MILVUS_HOST\") or \"localhost\"\n",
    "MILVUS_PORT = os.getenv(\"MILVUS_PORT\") or 19530\n",
    "MILVUS_DB = os.getenv(\"MILVUS_DB\") or \"default\"\n",
    "\n",
    "# Connect to Milvus\n",
    "conn = connections.connect(host=MILVUS_HOST, port=MILVUS_PORT)\n",
    "\n",
    "\n",
    "# Setup database\n",
    "# db.create_database(MILVUS_DB) # run only once\n",
    "db.using_database(MILVUS_DB)\n",
    "\n",
    "db.set_properties(db_name=MILVUS_DB, properties={\"database.max.collections\": 100})\n",
    "\n",
    "\n",
    "db.describe_database(MILVUS_DB)\n"
   ]
  },
  {
   "cell_type": "markdown",
   "metadata": {},
   "source": [
    "# Manage collections"
   ]
  },
  {
   "cell_type": "code",
   "execution_count": 2,
   "metadata": {},
   "outputs": [],
   "source": [
    "COLLECTION_NAME = \"text_collection_lab\"\n",
    "EMBEDDING_LENGTH = 1024\n"
   ]
  },
  {
   "cell_type": "markdown",
   "metadata": {},
   "source": [
    "The schema used to create a new collection is defined by `CollectionSchema`.\n",
    "\n",
    "You need to [define FieldSchema](https://milvus.io/docs/schema.md) before defining CollectionSchema."
   ]
  },
  {
   "cell_type": "code",
   "execution_count": null,
   "metadata": {},
   "outputs": [],
   "source": [
    "from pymilvus import Collection, DataType, CollectionSchema, FieldSchema\n",
    "\n",
    "# Define field schema\n",
    "id_field = FieldSchema(name=\"id\", dtype=DataType.INT64, is_primary=True, auto_id=True, description=\"primary key\")\n",
    "embedding_field = FieldSchema(name=\"embedding\", dtype=DataType.FLOAT_VECTOR, dim=EMBEDDING_LENGTH, description=\"embedding vector\")\n",
    "text_field = FieldSchema(name=\"text\", dtype=DataType.VARCHAR, max_length=65535, description=\"text field\") # require max_length defined\n",
    "\n",
    "\n",
    "# Define collection schema\n",
    "schema = CollectionSchema(fields=[id_field, embedding_field, text_field], description=\"example collection schema\")\n",
    "\n",
    "# Create collection\n",
    "collection = Collection(name=COLLECTION_NAME, schema=schema)\n"
   ]
  },
  {
   "cell_type": "markdown",
   "metadata": {},
   "source": [
    "Milvus requires defining the index column before loading. Refer to [index types and corresponding parameters](https://milvus.io/docs/index-vector-fields.md)."
   ]
  },
  {
   "cell_type": "code",
   "execution_count": 4,
   "metadata": {},
   "outputs": [
    {
     "data": {
      "text/plain": [
       "Status(code=0, message=)"
      ]
     },
     "execution_count": 4,
     "metadata": {},
     "output_type": "execute_result"
    }
   ],
   "source": [
    "# Define collection index\n",
    "from pymilvus import IndexType\n",
    "\n",
    "index_params = {\"nlist\": 16384,\n",
    "                'index_type': IndexType.IVF_SQ8,\n",
    "                'metric_type': 'IP',\n",
    "                'params': {'nlist': 16384}\n",
    "                }\n",
    "\n",
    "collection.create_index(field_name=\"embedding\", index_params=index_params)"
   ]
  },
  {
   "cell_type": "markdown",
   "metadata": {},
   "source": [
    "Loading a collection is the prerequisite to conducting similarity searches and queries in collections. "
   ]
  },
  {
   "cell_type": "code",
   "execution_count": 5,
   "metadata": {},
   "outputs": [],
   "source": [
    "collection.load()"
   ]
  },
  {
   "cell_type": "markdown",
   "metadata": {},
   "source": [
    "Searches and queries are memory-intensive operations. To save the cost, you are advised to release the collections that are currently not in use."
   ]
  },
  {
   "cell_type": "code",
   "execution_count": 30,
   "metadata": {},
   "outputs": [],
   "source": [
    "\n",
    "collection.release()"
   ]
  },
  {
   "cell_type": "code",
   "execution_count": 31,
   "metadata": {},
   "outputs": [],
   "source": [
    "# Drop collection\n",
    "# collection.drop()"
   ]
  }
 ],
 "metadata": {
  "kernelspec": {
   "display_name": ".venv",
   "language": "python",
   "name": "python3"
  },
  "language_info": {
   "codemirror_mode": {
    "name": "ipython",
    "version": 3
   },
   "file_extension": ".py",
   "mimetype": "text/x-python",
   "name": "python",
   "nbconvert_exporter": "python",
   "pygments_lexer": "ipython3",
   "version": "3.12.3"
  }
 },
 "nbformat": 4,
 "nbformat_minor": 2
}
